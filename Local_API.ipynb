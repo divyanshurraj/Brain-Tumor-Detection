{
 "cells": [
  {
   "cell_type": "code",
   "execution_count": null,
   "id": "ae8967a1-c693-41a2-8b07-1fbdad91f119",
   "metadata": {},
   "outputs": [
    {
     "name": "stdout",
     "output_type": "stream",
     "text": [
      " * Serving Flask app '__main__'\n",
      " * Debug mode: off\n"
     ]
    },
    {
     "name": "stderr",
     "output_type": "stream",
     "text": [
      "WARNING: This is a development server. Do not use it in a production deployment. Use a production WSGI server instead.\n",
      " * Running on all addresses (0.0.0.0)\n",
      " * Running on http://127.0.0.1:5001\n",
      " * Running on http://192.168.209.95:5001\n",
      "Press CTRL+C to quit\n",
      "192.168.209.95 - - [22/Mar/2025 10:52:08] \"OPTIONS /predict HTTP/1.1\" 200 -\n"
     ]
    },
    {
     "name": "stdout",
     "output_type": "stream",
     "text": [
      "\u001b[1m1/1\u001b[0m \u001b[32m━━━━━━━━━━━━━━━━━━━━\u001b[0m\u001b[37m\u001b[0m \u001b[1m0s\u001b[0m 94ms/step\n"
     ]
    },
    {
     "name": "stderr",
     "output_type": "stream",
     "text": [
      "192.168.209.95 - - [22/Mar/2025 10:52:10] \"POST /predict HTTP/1.1\" 200 -\n",
      "192.168.209.95 - - [22/Mar/2025 10:52:34] \"OPTIONS /predict HTTP/1.1\" 200 -\n"
     ]
    },
    {
     "name": "stdout",
     "output_type": "stream",
     "text": [
      "\u001b[1m1/1\u001b[0m \u001b[32m━━━━━━━━━━━━━━━━━━━━\u001b[0m\u001b[37m\u001b[0m \u001b[1m0s\u001b[0m 27ms/step\n"
     ]
    },
    {
     "name": "stderr",
     "output_type": "stream",
     "text": [
      "192.168.209.95 - - [22/Mar/2025 10:52:36] \"POST /predict HTTP/1.1\" 200 -\n"
     ]
    }
   ],
   "source": [
    "from flask import Flask, jsonify, request\n",
    "from flask_cors import CORS\n",
    "import numpy as np\n",
    "from tensorflow.keras.models import load_model\n",
    "from tensorflow.keras.preprocessing import image\n",
    "from io import BytesIO\n",
    "import requests\n",
    "\n",
    "app = Flask(__name__)\n",
    "CORS(app, resources={r\"/predict\": {\"origins\": \"*\"}})\n",
    "\n",
    "# Load model with compile=False\n",
    "model = load_model('brain_tumor_model.h5', compile=False)\n",
    "model.compile(optimizer='adam', loss='categorical_crossentropy', metrics=['accuracy'])\n",
    "\n",
    "@app.route('/predict', methods=['POST', 'OPTIONS'])\n",
    "def predict():\n",
    "    if request.method == 'OPTIONS':\n",
    "        return _build_cors_preflight_response()\n",
    "        \n",
    "    data = request.json\n",
    "    img_url = data['image_url']\n",
    "    \n",
    "    try:\n",
    "        # Download and process image\n",
    "        response = requests.get(img_url)\n",
    "        img = image.load_img(BytesIO(response.content), target_size=(150, 150))\n",
    "        img_array = image.img_to_array(img)\n",
    "        img_array = np.expand_dims(img_array/255.0, axis=0)\n",
    "        \n",
    "        # Predict\n",
    "        predictions = model.predict(img_array)\n",
    "        class_names = ['glioma', 'meningioma', 'no_tumor', 'pituitary']\n",
    "        \n",
    "        return jsonify({\n",
    "            \"class\": class_names[np.argmax(predictions[0])],\n",
    "            \"confidence\": float(np.max(predictions[0]))\n",
    "        })\n",
    "        \n",
    "    except Exception as e:\n",
    "        return jsonify({\"error\": str(e)}), 500\n",
    "\n",
    "def _build_cors_preflight_response():\n",
    "    response = jsonify({\"message\": \"Preflight Request\"})\n",
    "    response.headers.add(\"Access-Control-Allow-Origin\", \"*\")\n",
    "    response.headers.add(\"Access-Control-Allow-Headers\", \"*\")\n",
    "    response.headers.add(\"Access-Control-Allow-Methods\", \"*\")\n",
    "    return response\n",
    "\n",
    "if __name__ == '__main__':\n",
    "    app.run(host='0.0.0.0', port=5001)"
   ]
  },
  {
   "cell_type": "code",
   "execution_count": null,
   "id": "de2a0990-7cfa-461a-9c8e-0acf7376a545",
   "metadata": {},
   "outputs": [],
   "source": []
  }
 ],
 "metadata": {
  "kernelspec": {
   "display_name": "Python 3 (ipykernel)",
   "language": "python",
   "name": "python3"
  },
  "language_info": {
   "codemirror_mode": {
    "name": "ipython",
    "version": 3
   },
   "file_extension": ".py",
   "mimetype": "text/x-python",
   "name": "python",
   "nbconvert_exporter": "python",
   "pygments_lexer": "ipython3",
   "version": "3.11.7"
  }
 },
 "nbformat": 4,
 "nbformat_minor": 5
}
