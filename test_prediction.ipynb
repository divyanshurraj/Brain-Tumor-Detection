{
 "cells": [
  {
   "cell_type": "code",
   "execution_count": 4,
   "id": "bb3b1dee-8440-47dc-b77b-26c0559f789f",
   "metadata": {},
   "outputs": [
    {
     "name": "stdout",
     "output_type": "stream",
     "text": [
      "\u001b[1m1/1\u001b[0m \u001b[32m━━━━━━━━━━━━━━━━━━━━\u001b[0m\u001b[37m\u001b[0m \u001b[1m0s\u001b[0m 43ms/step\n",
      "Predicted Class: no_tumor\n",
      "Confidence: 99.99%\n"
     ]
    }
   ],
   "source": [
    "import numpy as np\n",
    "from tensorflow.keras.preprocessing import image\n",
    "from tensorflow.keras.models import load_model\n",
    "\n",
    "# Load your trained model\n",
    "model = load_model('brain_tumor_model.keras')\n",
    "class_names = ['glioma', 'meningioma', 'no_tumor', 'pituitary']\n",
    "\n",
    "def predict_image(img_path):\n",
    "    # Load and preprocess image\n",
    "    img = image.load_img(img_path, target_size=(150, 150))\n",
    "    img_array = image.img_to_array(img)\n",
    "    img_array = np.expand_dims(img_array/255.0, axis=0)\n",
    "    \n",
    "    # Make prediction\n",
    "    prediction = model.predict(img_array)\n",
    "    \n",
    "    # Get results\n",
    "    class_index = np.argmax(prediction[0])\n",
    "    confidence = np.max(prediction[0])\n",
    "    \n",
    "    print(f\"Predicted Class: {class_names[class_index]}\")\n",
    "    print(f\"Confidence: {confidence*100:.2f}%\")\n",
    "\n",
    "# Test with an image from your dataset\n",
    "predict_image('/Users/divyanshuraj/Documents/Python_Tumor_API/Brain_Tumor_Dataset/Testing/notumor/Te-no_0016.jpg')"
   ]
  },
  {
   "cell_type": "code",
   "execution_count": null,
   "id": "14def70f-6638-4b36-9367-97949685ccd6",
   "metadata": {},
   "outputs": [],
   "source": []
  }
 ],
 "metadata": {
  "kernelspec": {
   "display_name": "Python 3 (ipykernel)",
   "language": "python",
   "name": "python3"
  },
  "language_info": {
   "codemirror_mode": {
    "name": "ipython",
    "version": 3
   },
   "file_extension": ".py",
   "mimetype": "text/x-python",
   "name": "python",
   "nbconvert_exporter": "python",
   "pygments_lexer": "ipython3",
   "version": "3.11.7"
  }
 },
 "nbformat": 4,
 "nbformat_minor": 5
}
